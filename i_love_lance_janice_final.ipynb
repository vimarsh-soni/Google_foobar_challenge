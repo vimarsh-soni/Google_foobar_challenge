{
  "nbformat": 4,
  "nbformat_minor": 0,
  "metadata": {
    "colab": {
      "name": "i-love-lance-janice_final.ipynb",
      "provenance": [],
      "authorship_tag": "ABX9TyP4XEUlnd+c8ATh1UFp5A4l",
      "include_colab_link": true
    },
    "kernelspec": {
      "name": "python2",
      "display_name": "Python 2"
    }
  },
  "cells": [
    {
      "cell_type": "markdown",
      "metadata": {
        "id": "view-in-github",
        "colab_type": "text"
      },
      "source": [
        "<a href=\"https://colab.research.google.com/github/vimarsh-soni/Google_foobar_challenge/blob/master/i_love_lance_janice_final.ipynb\" target=\"_parent\"><img src=\"https://colab.research.google.com/assets/colab-badge.svg\" alt=\"Open In Colab\"/></a>"
      ]
    },
    {
      "cell_type": "code",
      "metadata": {
        "id": "hV3yThkYJ7bB",
        "colab_type": "code",
        "colab": {}
      },
      "source": [
        "def solution(x):\n",
        "  import string\n",
        "  lis1 = list(string.ascii_lowercase)\n",
        "  s = list(x)\n",
        "  sout = []\n",
        "  for i in s:\n",
        "    if lis1.count(i) == 0:\n",
        "      sout.append( i )\n",
        "    elif lis1.count(i) != 0:\n",
        "      sout.append( lis1[25-lis1.index(i)] )\n",
        "    else:\n",
        "      sout.append\n",
        "  decrypted = ''.join(map(str, sout))   \n",
        "  return decrypted"
      ],
      "execution_count": 0,
      "outputs": []
    },
    {
      "cell_type": "code",
      "metadata": {
        "id": "uNx4fFD1Kq2W",
        "colab_type": "code",
        "outputId": "c1eb1ec7-bc65-4fd5-f60e-a22569f7c451",
        "colab": {
          "base_uri": "https://localhost:8080/",
          "height": 34
        }
      },
      "source": [
        "string = 'Hello Vimarsh! How are you?'\n",
        "print(solution(string))"
      ],
      "execution_count": 0,
      "outputs": [
        {
          "output_type": "stream",
          "text": [
            "Hvool Vrnzihs! Hld ziv blf?\n"
          ],
          "name": "stdout"
        }
      ]
    },
    {
      "cell_type": "code",
      "metadata": {
        "id": "gbPL6_3RLLcB",
        "colab_type": "code",
        "colab": {}
      },
      "source": [
        ""
      ],
      "execution_count": 0,
      "outputs": []
    }
  ]
}